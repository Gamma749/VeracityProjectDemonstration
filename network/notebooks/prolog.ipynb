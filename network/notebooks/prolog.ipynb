{
 "cells": [
  {
   "cell_type": "markdown",
   "id": "8de81b4c-e736-4cf9-b342-dfa45cecc367",
   "metadata": {},
   "source": [
    "# Welcome to the SWI-Prolog kernel\n",
    "Using this kernel you can run SWI Prolog code in a jupyter notebook. Each cell can be placed into a consultation file by writing `%file: <filename>.pl` at the top of the cell. These consultation files are neccessary as otherwise the kernel defaults to using `cell.pl` as the consultation file - meaning cells may overwrite one another!"
   ]
  },
  {
   "cell_type": "code",
   "execution_count": 1,
   "id": "ed70fb2a",
   "metadata": {},
   "outputs": [
    {
     "name": "stdout",
     "output_type": "stream",
     "text": []
    }
   ],
   "source": [
    "%file: foo.pl\n",
    "\n",
    "man(socrates).\n",
    "mortal(X) :- man(X)."
   ]
  },
  {
   "cell_type": "code",
   "execution_count": 2,
   "id": "d20bbabf-9b93-4f1f-b6ba-cdfe31d7ee85",
   "metadata": {},
   "outputs": [
    {
     "name": "stdout",
     "output_type": "stream",
     "text": []
    }
   ],
   "source": [
    "%file: bar.pl\n",
    "\n",
    "cat(crookshanks).\n",
    "animal(X) :- cat(X)."
   ]
  },
  {
   "cell_type": "markdown",
   "id": "c7ee3a57-3cc0-4e1f-891b-e621d6326cba",
   "metadata": {},
   "source": [
    "Even though the above Prolog is in different cells, because they reference different consultation files both are added to the factbase!\n",
    "\n",
    "We can see this by querying the facts asserted in the cells. Queries are executed by prefixing with `?-`"
   ]
  },
  {
   "cell_type": "code",
   "execution_count": 3,
   "id": "9c8152bf",
   "metadata": {},
   "outputs": [
    {
     "name": "stdout",
     "output_type": "stream",
     "text": [
      "true.\n",
      "X = socrates .\n",
      "false.\n",
      "true.\n",
      "X = crookshanks .\n",
      "X = crookshanks ."
     ]
    }
   ],
   "source": [
    "?- mortal(socrates).\n",
    "?- mortal(X).\n",
    "?- mortal(bob).\n",
    "\n",
    "?- cat(crookshanks).\n",
    "?- cat(X).\n",
    "?- animal(X)."
   ]
  },
  {
   "cell_type": "markdown",
   "id": "c139db4d-d007-4ddb-9660-bdda48fcb4b3",
   "metadata": {},
   "source": [
    "---\n",
    "\n",
    "This kernel also integrates the Hyperledger Iroha project. Specifically, this integration allows for consultation files to be hashed and stored on the blockchain, meaning we can track when a certain consultation file is updated and verify that a consultation file is the most recent version by comparing hashes. More information on this project can be found in the GitHub repository: https://github.com/Gamma749/SWIPL-Notebook-Blockchain-Filehashing"
   ]
  },
  {
   "cell_type": "markdown",
   "id": "086e5397-2d4b-4c5f-a9d0-d58ad7242f52",
   "metadata": {},
   "source": [
    "To better support this integration, several variables can affect the behavior of the kernel and the blockchain interactions\n",
    "\n",
    "- `BLOCKCHAIN` determines if the kernel should log file hashes onto the blockchain at all. \n",
    "- `TIMSTAMPING` determines if a consultation file should have a timestamp added to it, meaning an unchanged file can be hashed multiple times onto the ledger\n",
    "- `LOGGING_LEVEL` does not specifically relate to the blockchain, instead this determines the level of logging that is output to the terminal. Useful for debugging and development!\n",
    "\n",
    "We can change these variables within the notebook using the magic `%ENV` tag. Let's investigate blockchain integration by changing this variable to `1`.\n"
   ]
  },
  {
   "cell_type": "code",
   "execution_count": 3,
   "id": "61e08269",
   "metadata": {},
   "outputs": [
    {
     "name": "stdout",
     "output_type": "stream",
     "text": [
      "SET ENV BLOCKCHAIN=1\n",
      "SET ENV REDIS=1\n",
      "SET ENV TIMESTAMPING=1\n",
      "SET ENV LOGGING_LEVEL=20"
     ]
    }
   ],
   "source": [
    "%ENV\n",
    "BLOCKCHAIN=1\n",
    "REDIS=1\n",
    "TIMESTAMPING=1\n",
    "LOGGING_LEVEL=20"
   ]
  },
  {
   "cell_type": "markdown",
   "id": "42a4a46a-1844-42fb-ba8e-55c6e339f6b5",
   "metadata": {},
   "source": [
    "Now we can run Prolog cells again and see new output:"
   ]
  },
  {
   "cell_type": "code",
   "execution_count": 2,
   "id": "6b14e808-bae2-4b3c-8261-789ac4fb3781",
   "metadata": {},
   "outputs": [
    {
     "name": "stdout",
     "output_type": "stream",
     "text": [
      "Redis storing 074b31f5019c5cb33ba7c725caac6f25@swipluser-foo-hash\n",
      "File: foo.pl\n",
      "Timestamp: 1643664460771794913\n",
      "Hash: 074b31f5019c5cb33ba7c725caac6f25\n",
      "Domain: swipluser-foo-hash\n",
      "Iroha Response: COMMITTED"
     ]
    }
   ],
   "source": [
    "%file: foo.pl\n",
    "\n",
    "man(socrates).\n",
    "mortal(X) :- man(X)."
   ]
  },
  {
   "cell_type": "markdown",
   "id": "e5e1832f-1d3c-4c26-be90-3f6de7efd091",
   "metadata": {},
   "source": [
    "The output here is some information on what has been sent to the blockchain.\n",
    "- File: The name of the file we have hashed\n",
    "- Timestamp: The timestamp of when the file was run\n",
    "- Hash: The MD5 hash of the file\n",
    "- Domain: The Iroha domain the file is stored on (for ease of tracking specific files)\n",
    "    - Note that the swipluser part of the domain derives from the Iroha username generated when this container started!\n",
    "- Iroha Response: The response of the blockchain, if the file was commited or not\n",
    "\n",
    "Try running the cell again, and see the timestamp and hash change!"
   ]
  },
  {
   "cell_type": "markdown",
   "id": "71b7f384-0f26-4757-a222-2e099ac42331",
   "metadata": {},
   "source": [
    "---\n",
    "With further hacks, this kernel also supports python scripting using `%python` magic!"
   ]
  },
  {
   "cell_type": "code",
   "execution_count": 6,
   "id": "e397e22d-278f-42d3-aa15-3a0764e759b1",
   "metadata": {},
   "outputs": [
    {
     "name": "stdout",
     "output_type": "stream",
     "text": [
      "Hello, World!"
     ]
    }
   ],
   "source": [
    "%python\n",
    "print(\"Hello, World!\")"
   ]
  },
  {
   "cell_type": "markdown",
   "id": "55f2e11c-8988-46f4-b842-8be54ef64c3a",
   "metadata": {},
   "source": [
    "Note that this is very delicate and not intended to be a production python environment. If needed, the Python3 kernel is also available on this container. However, this allows us to perform basic pyhton scripting within a prolog notebook.\n",
    "\n",
    "For example, we can load up our Iroha utilities and investigate our file hashes from above!"
   ]
  },
  {
   "cell_type": "code",
   "execution_count": 7,
   "id": "8156bbba-1903-4e67-a6f9-33d00022a089",
   "metadata": {},
   "outputs": [
    {
     "name": "stdout",
     "output_type": "stream",
     "text": [
      "ERROR: ''NoneType' object is not iterable'"
     ]
    }
   ],
   "source": [
    "%python\n",
    "from IrohaUtils import *\n",
    "import json\n",
    "custodian = IrohaHashCustodian.Custodian()\n",
    "\n",
    "hashes = custodian.get_domain_hashes(\"swipluser-foo-hash\")\n",
    "for hash in hashes: print(json.dumps(hash, indent=2))"
   ]
  },
  {
   "cell_type": "markdown",
   "id": "8c49b883-d4c8-411d-9813-433523fa125b",
   "metadata": {},
   "source": [
    "And now we can see the hashes of files generated above!"
   ]
  },
  {
   "cell_type": "markdown",
   "id": "458cd19e-d60a-4f0f-bdb8-4c10bbb347f9",
   "metadata": {
    "tags": []
   },
   "source": [
    "![Image](images/prolog-image.png)"
   ]
  }
 ],
 "metadata": {
  "kernelspec": {
   "display_name": "SWI-Prolog",
   "language": "",
   "name": "swi-kernel"
  },
  "language_info": {
   "mimetype": "text/plain",
   "name": "swipl"
  }
 },
 "nbformat": 4,
 "nbformat_minor": 5
}
