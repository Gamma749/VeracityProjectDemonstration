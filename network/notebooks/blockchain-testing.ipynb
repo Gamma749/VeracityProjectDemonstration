{
 "cells": [
  {
   "cell_type": "markdown",
   "id": "152ce983-e7b2-4f8a-bd18-8d6fd3af9590",
   "metadata": {},
   "source": [
    "# Blockchain Testing\n",
    "\n",
    "This notebook is adapted from a series of unit tests developed to test the network. If you would prefer to see these tests in a more traditional manner (using pytest) see the [repository here](https://github.com/Gamma749/Hypderledger-Iroha-Multinode-Demo)\n",
    "\n",
    "---\n",
    "\n",
    "First we will import the necessary modules and set a new domain. Because these commits are non-unique (unlike hashes) then we need to ensure they are sent to a different domain each time."
   ]
  },
  {
   "cell_type": "code",
   "execution_count": 1,
   "id": "259fdc22-e431-434d-ab8b-62f50f5ec4a1",
   "metadata": {},
   "outputs": [],
   "source": [
    "from IrohaUtils import *\n",
    "import socket\n",
    "import random\n",
    "\n",
    "def printColor(message, color=bcolors.OKGREEN):\n",
    "    print(f\"{bcolors.OKGREEN}{message}{bcolors.ENDC}\")\n",
    "\n",
    "# Set the IP addresses of the nodes, for easy access later\n",
    "NODE_LOCATIONS = [\n",
    "        (IROHA_HOST_ADDR_1, int(IROHA_PORT_1)),\n",
    "        (IROHA_HOST_ADDR_2, int(IROHA_PORT_2)),\n",
    "        (IROHA_HOST_ADDR_3, int(IROHA_PORT_3)),\n",
    "        (IROHA_HOST_ADDR_4, int(IROHA_PORT_4)),\n",
    "    ]"
   ]
  },
  {
   "cell_type": "markdown",
   "id": "cddc68b0-99d3-493e-94b9-31f70e309b5d",
   "metadata": {},
   "source": [
    "We need to create user accounts with roles. A role in an Iroha context is like a security group, allowing users to only perform actions according to the permissions of their roles. We want our users to be able to transfer and receive assets, so we grant the role these permissions. Let test if we can create roles:"
   ]
  },
  {
   "cell_type": "code",
   "execution_count": 2,
   "id": "4ac16350-afb2-4e9a-8942-01d116647619",
   "metadata": {},
   "outputs": [
    {
     "name": "stdout",
     "output_type": "stream",
     "text": [
      "Attempting ROLE_NAME='user_949750'\n",
      "\u001b[92m('COMMITTED', 5, 0)\u001b[0m\n",
      "\u001b[92mRole name for tests is user_949750\u001b[0m\n"
     ]
    }
   ],
   "source": [
    "# In case this cell is run multiple times, create a unique role name\n",
    "ROLE_NAME = None\n",
    "while True:\n",
    "    ROLE_NAME = f\"user_{random.randint(1,1000000)}\"\n",
    "    print(f\"Attempting {ROLE_NAME=}\")\n",
    "    commands = [\n",
    "        admin[\"iroha\"].command(\"CreateRole\", role_name=ROLE_NAME, permissions=[\n",
    "            primitive_pb2.can_receive,\n",
    "            primitive_pb2.can_transfer,\n",
    "            primitive_pb2.can_grant_can_transfer_my_assets\n",
    "        ])\n",
    "    ]\n",
    "    tx = IrohaCrypto.sign_transaction(\n",
    "        admin[\"iroha\"].transaction(commands), ADMIN_PRIVATE_KEY)\n",
    "    # Send the transaction and get the status\n",
    "    status = send_transaction(tx, net_1)\n",
    "    if status[0] == \"COMMITTED\": break\n",
    "printColor(status)\n",
    "printColor(f\"Role name for tests is {ROLE_NAME}\")"
   ]
  },
  {
   "cell_type": "markdown",
   "id": "8a368e8e-0b22-458f-985d-137ac6297ee5",
   "metadata": {},
   "source": [
    "We will also need a new domain to execute these tests in. In Iroha, a domain is somewhat like a namespace; all transactions within a domain affect only the assets within that domain (and do not spill to other domains). This means each time we create a new domain for these tests we can run them fresh using domains. Let us try and make a domain:"
   ]
  },
  {
   "cell_type": "code",
   "execution_count": 3,
   "id": "80eb200e-8351-40b4-9d10-3defa19bfa47",
   "metadata": {},
   "outputs": [
    {
     "name": "stdout",
     "output_type": "stream",
     "text": [
      "Trying DOMAIN_NAME='domain-271923'\n",
      "('COMMITTED', 5, 0)\n",
      "SUCCESSFULLY CREATED DOMAIN\n",
      "\u001b[92mYour domain is domain-271923\u001b[0m\n"
     ]
    }
   ],
   "source": [
    "DOMAIN_NAME = None\n",
    "while True:\n",
    "    # Set domain name to some random digit\n",
    "    DOMAIN_NAME = f\"domain-{random.randint(1,1000000)}\"\n",
    "    print(f\"Trying {DOMAIN_NAME=}\")\n",
    "    # Create the domain by sending the request to Iroha\n",
    "    commands = [\n",
    "        admin[\"iroha\"].command('CreateDomain', domain_id=DOMAIN_NAME, default_role=ROLE_NAME)\n",
    "    ]\n",
    "    tx = IrohaCrypto.sign_transaction(\n",
    "        admin[\"iroha\"].transaction(commands), admin[\"private_key\"])\n",
    "    # Send the transaction and get the status\n",
    "    status = send_transaction(tx, net_1)\n",
    "    print(status)\n",
    "    if status[0] == \"COMMITTED\":\n",
    "        print(\"SUCCESSFULLY CREATED DOMAIN\")\n",
    "        break\n",
    "\n",
    "printColor(f\"Your domain is {DOMAIN_NAME}\")"
   ]
  },
  {
   "cell_type": "markdown",
   "id": "2c76a7de-1320-40a3-9e59-8a4ce5a454dc",
   "metadata": {},
   "source": [
    "We will need an asset to pass around during these test. An Iroha asset is like a currency, in the sense that it can be transferred between users. However, during this project we have used assets for many other purposes, and I feel it necessary to emphasize that blockchain technology is more than cryptocurrency. "
   ]
  },
  {
   "cell_type": "code",
   "execution_count": 4,
   "id": "87ee5c97-1a0e-4a5f-ac66-a4f6f5f5b777",
   "metadata": {},
   "outputs": [
    {
     "name": "stdout",
     "output_type": "stream",
     "text": [
      "('ENOUGH_SIGNATURES_COLLECTED', 9, 0)\n",
      "('STATEFUL_VALIDATION_SUCCESS', 3, 0)\n",
      "('COMMITTED', 5, 0)\n",
      "('COMMITTED', 5, 0)\n",
      "\u001b[92mASSET CREATED\u001b[0m\n"
     ]
    }
   ],
   "source": [
    "# We do not need to create a randomly named asset, since the domain is already unique\n",
    "commands = admin[\"iroha\"].transaction([\n",
    "        admin[\"iroha\"].command('CreateAsset', asset_name=\"asset\",\n",
    "                domain_id=DOMAIN_NAME, precision=2)\n",
    "    ])\n",
    "tx = IrohaCrypto.sign_transaction(commands, admin[\"private_key\"])\n",
    "status = send_transaction(tx, net_1, verbose=True)\n",
    "print(status)\n",
    "if status[0] == \"COMMITTED\":\n",
    "    printColor(\"ASSET CREATED\")\n",
    "ASSET_ID = f\"asset#{DOMAIN_NAME}\""
   ]
  },
  {
   "cell_type": "code",
   "execution_count": 5,
   "id": "1692b59f-b270-44a4-8554-01e7399e1d34",
   "metadata": {},
   "outputs": [
    {
     "name": "stdout",
     "output_type": "stream",
     "text": [
      "('ENOUGH_SIGNATURES_COLLECTED', 9, 0)\n",
      "('STATEFUL_VALIDATION_SUCCESS', 3, 0)\n",
      "('COMMITTED', 5, 0)\n",
      "('COMMITTED', 5, 0)\n",
      "\u001b[92mASSET ADDED TO ADMIN\u001b[0m\n"
     ]
    }
   ],
   "source": [
    "# Add 1000 asset to the admin account\n",
    "commands = admin[\"iroha\"].transaction([\n",
    "        admin[\"iroha\"].command('AddAssetQuantity',\n",
    "                      asset_id=ASSET_ID, amount='1000.00')\n",
    "    ])\n",
    "tx = IrohaCrypto.sign_transaction(commands, admin[\"private_key\"])\n",
    "status = send_transaction(tx, net_1, verbose=True)\n",
    "print(status)\n",
    "if status[0] == \"COMMITTED\":\n",
    "    printColor(\"ASSET ADDED TO ADMIN\")"
   ]
  },
  {
   "cell_type": "markdown",
   "id": "296cdb69-6b10-4509-8b0e-ad9a18031c78",
   "metadata": {},
   "source": [
    "Finally, we can look into making some users! An account needs no extra introduction, it is a users interface and credentials with the Iroha network."
   ]
  },
  {
   "cell_type": "code",
   "execution_count": 6,
   "id": "0e388c94-8c1e-4c13-bd88-f2b49d04b349",
   "metadata": {},
   "outputs": [
    {
     "name": "stdout",
     "output_type": "stream",
     "text": [
      "\u001b[92mUSERS CREATED\u001b[0m\n"
     ]
    }
   ],
   "source": [
    "# Use the IrohaUtils new_user method to generate keys etc, stored in a dict\n",
    "user_a = new_user(\"user_a\", DOMAIN_NAME)\n",
    "user_b = new_user(\"user_b\", DOMAIN_NAME)\n",
    "user_c = new_user(\"user_c\", DOMAIN_NAME)\n",
    "\n",
    "commands = [\n",
    "        # Create users a,b,c\n",
    "        admin[\"iroha\"].command('CreateAccount', account_name=user_a[\"name\"], domain_id=user_a[\"domain\"],\n",
    "                          public_key=user_a[\"public_key\"]),\n",
    "        admin[\"iroha\"].command('CreateAccount', account_name=user_b[\"name\"], domain_id=user_b[\"domain\"],\n",
    "                          public_key=user_b[\"public_key\"]),\n",
    "        admin[\"iroha\"].command('CreateAccount', account_name=user_c[\"name\"], domain_id=user_c[\"domain\"],\n",
    "                          public_key=user_c[\"public_key\"])\n",
    "    ]\n",
    "tx = IrohaCrypto.sign_transaction(\n",
    "    iroha_admin.transaction(commands), admin[\"private_key\"])\n",
    "status = send_transaction(tx, net_1)\n",
    "if status[0] == \"COMMITTED\":\n",
    "    printColor(\"USERS CREATED\")"
   ]
  },
  {
   "cell_type": "markdown",
   "id": "707c6928-53b4-4e28-92b0-fd4f934688af",
   "metadata": {},
   "source": [
    "Let's give the users each some asset, so we can test with it:"
   ]
  },
  {
   "cell_type": "code",
   "execution_count": 7,
   "id": "4addfd95-0db4-4fd5-8960-62c997d263b0",
   "metadata": {},
   "outputs": [
    {
     "name": "stdout",
     "output_type": "stream",
     "text": [
      "\u001b[92mTRANSFERAL OF ASSETS COMPLETE\u001b[0m\n"
     ]
    }
   ],
   "source": [
    "commands = [\n",
    "    # Create users a,b,c\n",
    "    admin[\"iroha\"].command('TransferAsset', src_account_id=admin[\"id\"], dest_account_id=user_a[\"id\"],\n",
    "                      asset_id=ASSET_ID, amount=\"100\"),\n",
    "    admin[\"iroha\"].command('TransferAsset', src_account_id=admin[\"id\"], dest_account_id=user_b[\"id\"],\n",
    "                      asset_id=ASSET_ID, amount=\"100\"),\n",
    "    admin[\"iroha\"].command('TransferAsset', src_account_id=admin[\"id\"], dest_account_id=user_c[\"id\"],\n",
    "                      asset_id=ASSET_ID, amount=\"100\")\n",
    "]\n",
    "tx = IrohaCrypto.sign_transaction(\n",
    "    iroha_admin.transaction(commands), ADMIN_PRIVATE_KEY)\n",
    "status = send_transaction(tx, net_1)\n",
    "assert status[0] == \"COMMITTED\"\n",
    "printColor(\"TRANSFERAL OF ASSETS COMPLETE\")"
   ]
  },
  {
   "cell_type": "markdown",
   "id": "d8cba7bb-dd83-41ec-93dd-0b04865c6956",
   "metadata": {},
   "source": [
    "In the following tests we will be transferring assets back and forth a lot, and it would be very convenient to reset the asset amount between tests. Luckily, we can grant the admin account the ability to do this reset for us, so we will set this up now:"
   ]
  },
  {
   "cell_type": "code",
   "execution_count": 8,
   "id": "03bfc825-3a3a-4e95-87ed-a4e0701de4d1",
   "metadata": {},
   "outputs": [
    {
     "name": "stdout",
     "output_type": "stream",
     "text": [
      "user_a@domain-271923 GRANTS ADMIN TRANSFER PERMISSION\n",
      "user_a@domain-271923 SUCCESSFULLY GRANTED PERMISSION TO ADMIN\n",
      "user_b@domain-271923 GRANTS ADMIN TRANSFER PERMISSION\n",
      "user_b@domain-271923 SUCCESSFULLY GRANTED PERMISSION TO ADMIN\n",
      "user_c@domain-271923 GRANTS ADMIN TRANSFER PERMISSION\n",
      "user_c@domain-271923 SUCCESSFULLY GRANTED PERMISSION TO ADMIN\n",
      "\u001b[92mAll users granted admin permission to transfer assets\u001b[0m\n"
     ]
    }
   ],
   "source": [
    "for user in [user_a, user_b, user_c]:\n",
    "    print(f\"{user['id']} GRANTS ADMIN TRANSFER PERMISSION\")\n",
    "    tx = user[\"iroha\"].transaction([\n",
    "        user[\"iroha\"].command(\"GrantPermission\", account_id=admin[\"id\"], permission=primitive_pb2.can_transfer_my_assets)\n",
    "    ], creator_account=user[\"id\"])\n",
    "    tx = IrohaCrypto.sign_transaction(\n",
    "        tx, user[\"private_key\"])\n",
    "    status = send_transaction(tx, net_1)\n",
    "    assert status[0] == \"COMMITTED\"\n",
    "    print(f\"{user['id']} SUCCESSFULLY GRANTED PERMISSION TO ADMIN\")\n",
    "\n",
    "printColor(\"All users granted admin permission to transfer assets\")"
   ]
  },
  {
   "cell_type": "code",
   "execution_count": 9,
   "id": "04393aa6-d7d9-481e-a965-2017e422d6a8",
   "metadata": {},
   "outputs": [],
   "source": [
    "def get_user_assets(user_id):\n",
    "    \"\"\"\n",
    "    Get all of the assets of a user and return these\n",
    "    Args:\n",
    "        user_id (string): The identity of the user to query, already on the blockchain\n",
    "    Returns:\n",
    "        List of account asset: The assets of the specified user\n",
    "    \"\"\"\n",
    "\n",
    "    query = iroha_admin.query(\"GetAccountAssets\", account_id=f\"{user_id}\")\n",
    "    IrohaCrypto.sign_query(query, admin[\"private_key\"])\n",
    "    response = net_1.send_query(query)\n",
    "    data = response.account_assets_response.account_assets\n",
    "    return data\n",
    "\n",
    "def set_user_asset_balance(users = [user_a, user_b, user_c], balance = 100):\n",
    "    \"\"\"\n",
    "    Set the asset balance of all users to 100 for testing purposes\n",
    "    \"\"\"\n",
    "\n",
    "    commands = []\n",
    "    for user in users:\n",
    "        user_assets = get_user_assets(user['id'])\n",
    "        # Because there is only one asset, we can hardcode index 0\n",
    "        user_coin_balance = user_assets[0].balance\n",
    "        # Give admin 100, add 100 coins to user\n",
    "        new_commands = [\n",
    "            iroha_admin.command('AddAssetQuantity',\n",
    "                      asset_id=ASSET_ID, amount=str(balance)),\n",
    "            iroha_admin.command('TransferAsset', src_account_id=admin[\"id\"], dest_account_id=user[\"id\"],\n",
    "                            asset_id=ASSET_ID, description=\"Top up coin\", amount=str(balance))\n",
    "        ]\n",
    "\n",
    "        #Note the Iroha considers a movement of 0 coins stateless invalid, so lets handle this case\n",
    "        if user_coin_balance != '0':\n",
    "            # subtract balance from user\n",
    "            new_commands.append(\n",
    "            iroha_admin.command('TransferAsset', src_account_id=user[\"id\"], dest_account_id=admin[\"id\"],\n",
    "                        asset_id=ASSET_ID, description=\"Transfer excess user balance back\", amount=f\"{user_coin_balance}\")\n",
    "            )\n",
    "        for c in new_commands:\n",
    "            commands.append(c)\n",
    "        \n",
    "    tx = IrohaCrypto.sign_transaction(\n",
    "        admin[\"iroha\"].transaction(commands), admin[\"private_key\"])\n",
    "    status = send_transaction(tx, net_1)\n",
    "    assert status[0] == \"COMMITTED\"\n",
    "    for user in [user_a, user_b, user_c]:\n",
    "        user_assets = get_user_assets(user['id'])\n",
    "        assert str(user_assets) == f'[asset_id: \"asset#{DOMAIN_NAME}\"\\naccount_id: \"{user[\"id\"]}\"\\nbalance: \"{balance}\"\\n]'\n",
    "    printColor(f\"Users balance reset to {balance}\")"
   ]
  },
  {
   "cell_type": "markdown",
   "id": "2fcf9395-2ed6-4701-9e82-05b8a6d240dc",
   "metadata": {},
   "source": [
    "We can test this more complicated function now, let's set all account balances to 1000:"
   ]
  },
  {
   "cell_type": "code",
   "execution_count": 10,
   "id": "4715c1af-acaf-4faf-b33f-a52c4d2fa7d7",
   "metadata": {},
   "outputs": [
    {
     "name": "stdout",
     "output_type": "stream",
     "text": [
      "\u001b[92mUsers balance reset to 1000\u001b[0m\n",
      "\n",
      "[asset_id: \"asset#domain-271923\"\n",
      "account_id: \"user_a@domain-271923\"\n",
      "balance: \"1000\"\n",
      "]\n",
      "[asset_id: \"asset#domain-271923\"\n",
      "account_id: \"user_b@domain-271923\"\n",
      "balance: \"1000\"\n",
      "]\n",
      "[asset_id: \"asset#domain-271923\"\n",
      "account_id: \"user_c@domain-271923\"\n",
      "balance: \"1000\"\n",
      "]\n"
     ]
    }
   ],
   "source": [
    "set_user_asset_balance(balance=1000)\n",
    "print(\"\")\n",
    "for user in [user_a, user_b, user_c]:\n",
    "        user_assets = get_user_assets(user['id'])\n",
    "        print(user_assets)"
   ]
  },
  {
   "cell_type": "markdown",
   "id": "cac9d1cd-1f64-4a3b-8562-092f9feccdd3",
   "metadata": {},
   "source": [
    "Excellent! We now have a domain with users and an asset we can transfer about at will. We can also easily reset this asset as needed. We have successfully set up a nice testing environment. In the process we have also tested that we could interact with the Iroha network, so a great deal of testing has already occurred! At this point we may be interested in the blockchain state. We can easily look at all of the committed blocks with the following code, which you can run at any time to see the results of a test on the chain."
   ]
  },
  {
   "cell_type": "code",
   "execution_count": 11,
   "id": "7c09e43b-74c6-4696-b939-b48455ba5175",
   "metadata": {},
   "outputs": [],
   "source": [
    "log_all_blocks(\"testing.log\")"
   ]
  },
  {
   "cell_type": "markdown",
   "id": "63cd80d9-c683-4462-bd8b-e1bbd48f67f2",
   "metadata": {},
   "source": [
    "This creates a file in `/logs` that stores our blockchain state in JSON format. If you look towards the end of the file, we can see some blocks with many transactions occurring, which corresponds to us setting the user balances in the previous cell! While the JSON format can be tedious to look through, it can provide some good insight as to what the blockchain is actually storing.\n",
    "\n",
    "We are now ready to move on to the \"real\" testing.\n",
    "\n",
    "---"
   ]
  },
  {
   "cell_type": "markdown",
   "id": "c1cf51b4-687f-4bf0-88f7-df15ec72901f",
   "metadata": {},
   "source": [
    "## Testing\n",
    "\n",
    "Let's test if an honest transaction can take place. User B will send 10 coins to User C"
   ]
  },
  {
   "cell_type": "code",
   "execution_count": 12,
   "id": "43cc0714-2546-452f-ad04-a855095d0e69",
   "metadata": {},
   "outputs": [
    {
     "name": "stdout",
     "output_type": "stream",
     "text": [
      "\u001b[92mUsers balance reset to 100\u001b[0m\n",
      "\u001b[92mHONEST TRANSFER COMPLETE\u001b[0m\n",
      "[asset_id: \"asset#domain-271923\"\n",
      "account_id: \"user_b@domain-271923\"\n",
      "balance: \"90\"\n",
      "]\n",
      "[asset_id: \"asset#domain-271923\"\n",
      "account_id: \"user_c@domain-271923\"\n",
      "balance: \"110\"\n",
      "]\n"
     ]
    }
   ],
   "source": [
    "set_user_asset_balance()\n",
    "\n",
    "command = [\n",
    "    user_b[\"iroha\"].command(\"TransferAsset\", src_account_id=user_b[\"id\"], dest_account_id=user_c[\"id\"],\n",
    "                        asset_id=ASSET_ID, amount=\"10\")\n",
    "]\n",
    "tx = IrohaCrypto.sign_transaction(\n",
    "    user_b[\"iroha\"].transaction(command), user_b[\"private_key\"])\n",
    "status = send_transaction(tx, net_1)\n",
    "assert status[0] == \"COMMITTED\"\n",
    "\n",
    "# Now check that both parties have the correct asset total\n",
    "user_b_assets = get_user_assets(user_b[\"id\"])\n",
    "user_c_assets = get_user_assets(user_c[\"id\"])\n",
    "assert str(user_b_assets) == f'[asset_id: \"{ASSET_ID}\"\\naccount_id: \"{user_b[\"id\"]}\"\\nbalance: \"90\"\\n]'\n",
    "assert str(user_c_assets) == f'[asset_id: \"{ASSET_ID}\"\\naccount_id: \"{user_c[\"id\"]}\"\\nbalance: \"110\"\\n]'\n",
    "printColor(\"HONEST TRANSFER COMPLETE\")\n",
    "print(user_b_assets)\n",
    "print(user_c_assets)"
   ]
  },
  {
   "cell_type": "markdown",
   "id": "fdf1b46f-574d-416c-993a-ac7940b617ed",
   "metadata": {},
   "source": [
    "Excellent! So two users can transfer assets between each other in an honest fashion (i.e. they have the assets to send)"
   ]
  },
  {
   "cell_type": "markdown",
   "id": "f37bb7b2-c939-45b1-a6e7-665ad532e83e",
   "metadata": {},
   "source": [
    "We will now test if a user can \"double spend\". Can a user spend all of their asset on one transaction but spend that same asset on a *different* transaction before the blockchain realizes and stops it? User A will attempt a double spend to User B and User C"
   ]
  },
  {
   "cell_type": "code",
   "execution_count": 13,
   "id": "1d2d89f3-b807-4191-8a48-b6bebebf279d",
   "metadata": {},
   "outputs": [
    {
     "name": "stdout",
     "output_type": "stream",
     "text": [
      "\u001b[92mUsers balance reset to 100\u001b[0m\n",
      "Sending transaction...\n",
      "Transaction rejected!\n",
      "[asset_id: \"asset#domain-271923\"\n",
      "account_id: \"user_a@domain-271923\"\n",
      "balance: \"100\"\n",
      "]\n",
      "[asset_id: \"asset#domain-271923\"\n",
      "account_id: \"user_b@domain-271923\"\n",
      "balance: \"100\"\n",
      "]\n",
      "[asset_id: \"asset#domain-271923\"\n",
      "account_id: \"user_c@domain-271923\"\n",
      "balance: \"100\"\n",
      "]\n",
      "\u001b[92mDOUBLE SPEND PREVENTED\u001b[0m\n"
     ]
    }
   ],
   "source": [
    "set_user_asset_balance()\n",
    "\n",
    "command = [\n",
    "    user_a[\"iroha\"].command(\"TransferAsset\", src_account_id=user_a[\"id\"], dest_account_id=user_b[\"id\"],\n",
    "                        asset_id=ASSET_ID, amount=\"100\"),\n",
    "    user_a[\"iroha\"].command(\"TransferAsset\", src_account_id=user_a[\"id\"], dest_account_id=user_c[\"id\"],\n",
    "                        asset_id=ASSET_ID, amount=\"100\")\n",
    "]\n",
    "tx = IrohaCrypto.sign_transaction(\n",
    "    user_a[\"iroha\"].transaction(command), user_a[\"private_key\"])\n",
    "print(\"Sending transaction...\")\n",
    "status = send_transaction(tx, net_1)\n",
    "assert status[0] == \"REJECTED\"\n",
    "print(\"Transaction rejected!\")\n",
    "\n",
    "# Now check that all parties have the correct asset total\n",
    "for user in [user_a, user_b, user_c]:\n",
    "    user_assets = get_user_assets(user['id'])\n",
    "    assert str(user_assets) == f'[asset_id: \"{ASSET_ID}\"\\naccount_id: \"{user[\"id\"]}\"\\nbalance: \"100\"\\n]'\n",
    "    print(user_assets)\n",
    "printColor(\"DOUBLE SPEND PREVENTED\")"
   ]
  },
  {
   "cell_type": "markdown",
   "id": "0fda3e4a-3428-41c6-918e-9728923e0166",
   "metadata": {},
   "source": [
    "So User A could not double spend their asset in the same transaction! What if instead of one transaction, User A tried sending the double spend in two transactions to two different nodes?"
   ]
  },
  {
   "cell_type": "code",
   "execution_count": 14,
   "id": "47586a3c-8ef1-4a5f-91f4-cb846d010205",
   "metadata": {},
   "outputs": [
    {
     "name": "stdout",
     "output_type": "stream",
     "text": [
      "\u001b[92mUsers balance reset to 100\u001b[0m\n",
      "Sending transactions...\n",
      "One transaction accepted!\n",
      "One transaction rejected!\n",
      "[asset_id: \"asset#domain-271923\"\n",
      "account_id: \"user_a@domain-271923\"\n",
      "balance: \"0\"\n",
      "]\n",
      "[asset_id: \"asset#domain-271923\"\n",
      "account_id: \"user_b@domain-271923\"\n",
      "balance: \"100\"\n",
      "]\n",
      "[asset_id: \"asset#domain-271923\"\n",
      "account_id: \"user_c@domain-271923\"\n",
      "balance: \"200\"\n",
      "]\n",
      "\u001b[92mDOUBLE SPEND PREVENTED\u001b[0m\n"
     ]
    }
   ],
   "source": [
    "set_user_asset_balance()\n",
    "\n",
    "command1 = [\n",
    "    user_a[\"iroha\"].command(\"TransferAsset\", src_account_id=user_a[\"id\"], dest_account_id=user_b[\"id\"],\n",
    "                        asset_id=ASSET_ID, amount=\"100\")\n",
    "]\n",
    "\n",
    "command2 = [\n",
    "    user_a[\"iroha\"].command(\"TransferAsset\", src_account_id=user_a[\"id\"], dest_account_id=user_c[\"id\"],\n",
    "                        asset_id=ASSET_ID, amount=\"100\")\n",
    "]\n",
    "tx_1 = IrohaCrypto.sign_transaction(\n",
    "    user_a[\"iroha\"].transaction(command1), user_a[\"private_key\"])\n",
    "tx_2 = IrohaCrypto.sign_transaction(\n",
    "    user_a[\"iroha\"].transaction(command2), user_a[\"private_key\"])\n",
    "\n",
    "# We cannot use IrohaUtils.send_transaction as the send_transaction method \n",
    "# is blocking until a final status is found\n",
    "# Unless swapping to threading or asyncio this means there will be some code duplication here\n",
    "hex_hash_1 = binascii.hexlify(IrohaCrypto.hash(tx_1))\n",
    "hex_hash_2 = binascii.hexlify(IrohaCrypto.hash(tx_2))\n",
    "# Actually send the transactions, one after another\n",
    "print(\"Sending transactions...\")\n",
    "net_1.send_tx(tx_1)\n",
    "net_2.send_tx(tx_2)\n",
    "# Get the status's of each transactions\n",
    "last_status = [None, None]\n",
    "for status in net_1.tx_status_stream(tx_1):\n",
    "    last_status[0] = status\n",
    "for status in net_2.tx_status_stream(tx_2):\n",
    "    last_status[1] = status\n",
    "# Sort the list of last status so we can check one commit and one reject\n",
    "last_status.sort()\n",
    "assert last_status[0][0]==\"COMMITTED\" and last_status[1][0]==\"REJECTED\"\n",
    "print(\"One transaction accepted!\")\n",
    "print(\"One transaction rejected!\")\n",
    "\n",
    "# Now check that all parties have the correct asset total\n",
    "for user in [user_a, user_b, user_c]:\n",
    "    user_assets = get_user_assets(user['id'])\n",
    "    print(user_assets)\n",
    "printColor(\"DOUBLE SPEND PREVENTED\")"
   ]
  },
  {
   "cell_type": "markdown",
   "id": "1fc84ca9-c37f-4c9e-927c-f2966460cc8c",
   "metadata": {},
   "source": [
    "The double spend was prevented, which is fantastic! Even using two different transactions with two different nodes over two different connections, the blockchain was able to reject one of the transactions and prevent double spending from occurring."
   ]
  },
  {
   "cell_type": "markdown",
   "id": "c90912d0-0866-48ce-832b-b7d194dd286d",
   "metadata": {},
   "source": [
    "What if a malicious user tries more sinister methods of influencing the network? Maybe they could try to create a new role..."
   ]
  },
  {
   "cell_type": "code",
   "execution_count": 15,
   "id": "5a1c13a0-78b2-4588-b1f5-a14f527e665a",
   "metadata": {},
   "outputs": [
    {
     "name": "stdout",
     "output_type": "stream",
     "text": [
      "Attempting to create a new role without permission\n",
      "Sending transaction...\n",
      "Transaction rejected!\n",
      "\u001b[92mNO ROLE CREATED\u001b[0m\n"
     ]
    }
   ],
   "source": [
    "print(\"Attempting to create a new role without permission\")\n",
    "commands = [\n",
    "    # A new user that can add asset quantities, which is BAD \n",
    "    user_a[\"iroha\"].command(\"CreateRole\", role_name=\"new_user\", permissions=[\n",
    "        primitive_pb2.can_receive,\n",
    "        primitive_pb2.can_transfer,\n",
    "        primitive_pb2.can_add_asset_qty\n",
    "    ])\n",
    "]\n",
    "\n",
    "tx = IrohaCrypto.sign_transaction(\n",
    "    user_a[\"iroha\"].transaction(commands), user_a[\"private_key\"])\n",
    "print(\"Sending transaction...\")\n",
    "status = send_transaction(tx, net_1)\n",
    "assert status[0] == \"REJECTED\"\n",
    "print(\"Transaction rejected!\")\n",
    "printColor(\"NO ROLE CREATED\")"
   ]
  },
  {
   "cell_type": "markdown",
   "id": "bde794a8-56c9-4865-be56-bd1e26237a98",
   "metadata": {},
   "source": [
    "So a malicious user without permissions can not create a new role, what about a new user?"
   ]
  },
  {
   "cell_type": "code",
   "execution_count": 16,
   "id": "610852a1-c966-4b54-99b2-9d95ffe71ebb",
   "metadata": {},
   "outputs": [
    {
     "name": "stdout",
     "output_type": "stream",
     "text": [
      "Attempting to create a new account without permission\n",
      "Sending transaction...\n",
      "Transaction rejected!\n",
      "\u001b[92mNO ACCOUNT CREATED\u001b[0m\n"
     ]
    }
   ],
   "source": [
    "print(\"Attempting to create a new account without permission\")\n",
    "user_x = new_user(\"user_x\", DOMAIN_NAME)\n",
    "commands = [\n",
    "    user_a[\"iroha\"].command('CreateAccount', account_name=f'{user_x[\"name\"]}', domain_id=DOMAIN_NAME,\n",
    "                      public_key=user_x[\"public_key\"]),\n",
    "\n",
    "]\n",
    "\n",
    "tx = IrohaCrypto.sign_transaction(\n",
    "    user_a[\"iroha\"].transaction(commands), user_a[\"private_key\"])\n",
    "print(\"Sending transaction...\")\n",
    "status = send_transaction(tx, net_1)\n",
    "assert status[0] == \"REJECTED\"\n",
    "print(\"Transaction rejected!\")\n",
    "printColor(\"NO ACCOUNT CREATED\")"
   ]
  },
  {
   "cell_type": "markdown",
   "id": "fdc0ada0-ad4f-401a-9c66-122ae0c5f4ab",
   "metadata": {},
   "source": [
    "So a malicious user cannot create a new account, blocking off many fraudulent attacks!\n",
    "\n",
    "Okay, what if a malicious user tried to hijack another users assets by signing a fraudulent transaction?"
   ]
  },
  {
   "cell_type": "code",
   "execution_count": 17,
   "id": "2f7c9539-3f13-40f7-add6-04063bf7f955",
   "metadata": {},
   "outputs": [
    {
     "name": "stdout",
     "output_type": "stream",
     "text": [
      "Attempting to sign as other user\n",
      "Sending transaction...\n",
      "Transaction rejected!\n",
      "\u001b[92mTRANSFER FAILED SUCCESSFULLY ;)\u001b[0m\n"
     ]
    }
   ],
   "source": [
    "print(\"Attempting to sign as other user\")\n",
    "# Create a transfer from user c to user a of 10 asset\n",
    "commands = [\n",
    "    user_a[\"iroha\"].command(\"TransferAsset\", src_account_id=f'{user_c[\"id\"]}', dest_account_id=f'{user_a[\"id\"]}',\n",
    "                asset_id=ASSET_ID, amount=\"10\")\n",
    "]\n",
    "\n",
    "# Sign with own private key\n",
    "tx = IrohaCrypto.sign_transaction(\n",
    "    user_a[\"iroha\"].transaction(commands), user_a[\"private_key\"])\n",
    "\n",
    "print(\"Sending transaction...\")\n",
    "status = send_transaction(tx, net_1)\n",
    "assert status[0] == \"REJECTED\"\n",
    "print(\"Transaction rejected!\")\n",
    "printColor(\"TRANSFER FAILED SUCCESSFULLY ;)\")"
   ]
  },
  {
   "cell_type": "markdown",
   "id": "a017e160-2e7d-41cf-862d-8cf61374d740",
   "metadata": {},
   "source": [
    "Without knowing User C's private key, User A cannot impersonate them and steal their asset. What if User A *did* have User C's private key?"
   ]
  },
  {
   "cell_type": "code",
   "execution_count": 18,
   "id": "aaeb6c85-5904-4bea-817f-6046658b3f91",
   "metadata": {},
   "outputs": [
    {
     "name": "stdout",
     "output_type": "stream",
     "text": [
      "\u001b[92mUsers balance reset to 100\u001b[0m\n",
      "Attempting to sign with other users key\n",
      "Sending transaction...\n",
      "Transaction accepted!\n",
      "[asset_id: \"asset#domain-271923\"\n",
      "account_id: \"user_a@domain-271923\"\n",
      "balance: \"110\"\n",
      "]\n",
      "[asset_id: \"asset#domain-271923\"\n",
      "account_id: \"user_c@domain-271923\"\n",
      "balance: \"90\"\n",
      "]\n",
      "\u001b[92mUser C asset transfered!\u001b[0m\n"
     ]
    }
   ],
   "source": [
    "set_user_asset_balance()\n",
    "print(\"Attempting to sign with other users key\")\n",
    "\n",
    "# Create a transfer from user c to user a of 10 asset\n",
    "commands = [\n",
    "    user_a[\"iroha\"].command(\"TransferAsset\", src_account_id=f'{user_c[\"id\"]}', dest_account_id=f'{user_a[\"id\"]}',\n",
    "                asset_id=ASSET_ID, amount=\"10\")\n",
    "]\n",
    "\n",
    "# If User A knows only the private key, all other information can be derived\n",
    "user_c_priv_key = user_c[\"private_key\"]\n",
    "user_c_iroha = Iroha(user_c[\"id\"])\n",
    "\n",
    "\n",
    "# Sign with user C private key\n",
    "tx = IrohaCrypto.sign_transaction(\n",
    "    user_c_iroha.transaction(commands), user_c[\"private_key\"])\n",
    "\n",
    "print(\"Sending transaction...\")\n",
    "status = send_transaction(tx, net_1)\n",
    "assert status[0] == \"COMMITTED\"\n",
    "print(\"Transaction accepted!\")\n",
    "for user in [user_a, user_c]:\n",
    "    user_assets = get_user_assets(user['id'])\n",
    "    print(user_assets)\n",
    "printColor(\"User C asset transfered!\")"
   ]
  },
  {
   "cell_type": "markdown",
   "id": "fce41aa3-4add-471d-85cb-858161992829",
   "metadata": {},
   "source": [
    "Oh dear, if a private key is compromised then there is no security. This is because the private key forms the basis of trust in these networks. When a private key is compromised there is no way to verify if transactions from that key are valid or not, leading to serious issues in a network. Even if blockchain technology is otherwise a perfect fit for veracity related projects, it would be foolish to ignore the reliance on secret keys. A social engineering attack to compromise a secret key may not be very eloquent, but the relative ease (compared to cracking a secret key or controlling the network nodes) and ability to compromise a user means there is a great risk in these networks that could easily be overlooked."
   ]
  },
  {
   "cell_type": "markdown",
   "id": "c0e16434-3215-4cea-b682-7785b67537d7",
   "metadata": {},
   "source": [
    "On to more cheerful matters, we will investigate replay attacks! User A will attempt to replay their own transaction:"
   ]
  },
  {
   "cell_type": "code",
   "execution_count": 19,
   "id": "e48da60a-70fd-4ca4-8e6a-a514bc663ae7",
   "metadata": {},
   "outputs": [
    {
     "name": "stdout",
     "output_type": "stream",
     "text": [
      "\u001b[92mUsers balance reset to 100\u001b[0m\n",
      "Sending transaction...\n",
      "('COMMITTED', 5, 0)\n",
      "FIRST TRANSACTION SUCCESSFUL\n",
      "('COMMITTED', 5, 0)\n",
      "SECOND TRANSACTION... SUCCESSFUL?\n",
      "[asset_id: \"asset#domain-271923\"\n",
      "account_id: \"user_a@domain-271923\"\n",
      "balance: \"90\"\n",
      "]\n",
      "[asset_id: \"asset#domain-271923\"\n",
      "account_id: \"user_c@domain-271923\"\n",
      "balance: \"110\"\n",
      "]\n",
      "ONLY ONE TRANSACTION COMMITTED\n",
      "\u001b[92mREPLAY ATTACK PREVENTED\u001b[0m\n"
     ]
    }
   ],
   "source": [
    "set_user_asset_balance()\n",
    "commands = [\n",
    "    user_a[\"iroha\"].command(\"TransferAsset\", src_account_id=f'{user_a[\"id\"]}', dest_account_id=f'{user_c[\"id\"]}',\n",
    "                asset_id=ASSET_ID, amount=\"10\")\n",
    "]\n",
    "\n",
    "tx = IrohaCrypto.sign_transaction(\n",
    "    user_a[\"iroha\"].transaction(commands), user_a[\"private_key\"])\n",
    "\n",
    "print(\"Sending transaction...\")\n",
    "status = send_transaction(tx, net_1)\n",
    "assert status[0] == \"COMMITTED\"\n",
    "print(status)\n",
    "print(\"FIRST TRANSACTION SUCCESSFUL\")\n",
    "status = send_transaction(tx, net_1)\n",
    "print(status)\n",
    "print(\"SECOND TRANSACTION... SUCCESSFUL?\")\n",
    "# As it turns out, Iroha *will* accept a committed transaction again but returns the old response without replaying the effect \n",
    "user_a_assets = get_user_assets(user_a['id'])\n",
    "user_c_assets = get_user_assets(user_c[\"id\"])\n",
    "assert str(user_a_assets) == f'[asset_id: \"{ASSET_ID}\"\\naccount_id: \"{user_a[\"id\"]}\"\\nbalance: \"90\"\\n]'\n",
    "assert str(user_c_assets) == f'[asset_id: \"{ASSET_ID}\"\\naccount_id: \"{user_c[\"id\"]}\"\\nbalance: \"110\"\\n]'\n",
    "for user in [user_a, user_c]:\n",
    "    user_assets = get_user_assets(user['id'])\n",
    "    print(user_assets)\n",
    "print(\"ONLY ONE TRANSACTION COMMITTED\")\n",
    "printColor(\"REPLAY ATTACK PREVENTED\")"
   ]
  },
  {
   "cell_type": "markdown",
   "id": "cca58c06-88d7-40c6-85ad-2e7f186761e0",
   "metadata": {},
   "source": [
    "So a user cannot replay their own transaction! Surprisingly (and annoyingly) Iroha does not reject the second transaction but returns the status of the *first* transaction again, making it look like the transaction was committed twice.\n",
    "\n",
    "What if User A tries to replay the transaction of a *different* user?"
   ]
  },
  {
   "cell_type": "code",
   "execution_count": 20,
   "id": "508e4c75-2db6-4a26-b8a9-0fcc4edd4e91",
   "metadata": {},
   "outputs": [
    {
     "name": "stdout",
     "output_type": "stream",
     "text": [
      "\u001b[92mUsers balance reset to 100\u001b[0m\n",
      "ATTEMPTING REPLAY ATTACK OF OTHERS TRANSACTION\n",
      "Sending transaction...\n",
      "FIRST TRANSACTION COMMITTED\n",
      "USER A ATTEMPTING REPLAY\n",
      "[asset_id: \"asset#domain-271923\"\n",
      "account_id: \"user_a@domain-271923\"\n",
      "balance: \"100\"\n",
      "]\n",
      "[asset_id: \"asset#domain-271923\"\n",
      "account_id: \"user_b@domain-271923\"\n",
      "balance: \"110\"\n",
      "]\n",
      "[asset_id: \"asset#domain-271923\"\n",
      "account_id: \"user_c@domain-271923\"\n",
      "balance: \"90\"\n",
      "]\n",
      "\u001b[92mREPLAY ATTACK PREVENTED\u001b[0m\n"
     ]
    }
   ],
   "source": [
    "set_user_asset_balance()\n",
    "print(\"ATTEMPTING REPLAY ATTACK OF OTHERS TRANSACTION\")\n",
    "# User C sends some coin to User B\n",
    "commands = [\n",
    "    user_c[\"iroha\"].command(\"TransferAsset\", src_account_id=f'{user_c[\"id\"]}', dest_account_id=f'{user_b[\"id\"]}',\n",
    "                asset_id=ASSET_ID, amount=\"10\")\n",
    "]\n",
    "\n",
    "tx = user_c[\"iroha\"].transaction(commands)\n",
    "\n",
    "signed_tx = IrohaCrypto.sign_transaction(\n",
    "    tx, user_c[\"private_key\"])\n",
    "\n",
    "print(\"Sending transaction...\")\n",
    "status = send_transaction(signed_tx, net_1)\n",
    "assert status[0] == \"COMMITTED\"\n",
    "print(\"FIRST TRANSACTION COMMITTED\")\n",
    "\n",
    "print(\"USER A ATTEMPTING REPLAY\")\n",
    "status = send_transaction(signed_tx, net_1)\n",
    "# Again, the response code is from the first transaction, so is \"committed\" but the effect takes hold once\n",
    "for user in [user_a, user_b, user_c]:\n",
    "    user_assets = get_user_assets(user['id'])\n",
    "    print(user_assets)\n",
    "printColor(\"REPLAY ATTACK PREVENTED\")"
   ]
  },
  {
   "cell_type": "markdown",
   "id": "1c14779a-a3ee-474f-a460-2d5268657a63",
   "metadata": {},
   "source": [
    "So again, the replay returns a committed code but in reality this references the original transaction, and no replay takes place"
   ]
  },
  {
   "cell_type": "markdown",
   "id": "479986f0-2211-4f20-9092-ded4dff6d55d",
   "metadata": {},
   "source": [
    "---\n",
    "\n",
    "### Conclusions\n",
    "\n",
    "These tests have shown:\n",
    "- The Iroha network is reachable from python and has full functionality\n",
    "- The Iroha network is robust to several different attacks\n",
    "- The greatest threat to a blockchain network is compromised secret keys\n",
    "\n",
    "Overall, I hope the tests above have improved your understanding of how the Iroha network works, and how the python SDK interacts with it. While these tests are not overly exciting, they are important to show that blockchain technology is an excellent tool but not the be-all-and-end-all solution to veracity that some may claim. "
   ]
  }
 ],
 "metadata": {
  "kernelspec": {
   "display_name": "Python 3 (ipykernel)",
   "language": "python",
   "name": "python3"
  },
  "language_info": {
   "codemirror_mode": {
    "name": "ipython",
    "version": 3
   },
   "file_extension": ".py",
   "mimetype": "text/x-python",
   "name": "python",
   "nbconvert_exporter": "python",
   "pygments_lexer": "ipython3",
   "version": "3.9.2"
  }
 },
 "nbformat": 4,
 "nbformat_minor": 5
}
