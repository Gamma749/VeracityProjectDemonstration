{
 "cells": [
  {
   "cell_type": "markdown",
   "id": "cd289f18",
   "metadata": {},
   "source": [
    "# Hash Consultation\n",
    "\n",
    "First let's ensure we are consulting with the blockchain and redis database:"
   ]
  },
  {
   "cell_type": "code",
   "execution_count": 1,
   "id": "7476da22",
   "metadata": {},
   "outputs": [
    {
     "name": "stdout",
     "output_type": "stream",
     "text": [
      "SET ENV BLOCKCHAIN=1\n",
      "SET ENV REDIS=1\n",
      "SET ENV TIMESTAMPING=1\n",
      "SET ENV LOGGING_LEVEL=20"
     ]
    }
   ],
   "source": [
    "%ENV\n",
    "BLOCKCHAIN=1\n",
    "REDIS=1\n",
    "TIMESTAMPING=1\n",
    "LOGGING_LEVEL=20"
   ]
  },
  {
   "cell_type": "markdown",
   "id": "4eebc292",
   "metadata": {},
   "source": [
    "Now, let's run a Prolog cell to store its information on chain (and in the redis database):"
   ]
  },
  {
   "cell_type": "code",
   "execution_count": 3,
   "id": "d165b39e",
   "metadata": {},
   "outputs": [
    {
     "name": "stdout",
     "output_type": "stream",
     "text": [
      "Redis storing feffe35661e85f6b086319d4ec94e8bd@swipluser-socrates-hash\n",
      "File: socrates.pl\n",
      "Timestamp: 1644275135685670630\n",
      "Hash: feffe35661e85f6b086319d4ec94e8bd\n",
      "Domain: swipluser-socrates-hash\n",
      "Iroha Response: COMMITTED"
     ]
    }
   ],
   "source": [
    "%file: socrates.pl\n",
    "\n",
    "man(socrates).\n",
    "mortal(X) :- man(X)."
   ]
  },
  {
   "cell_type": "markdown",
   "id": "ef1416d1-37f8-44b7-9946-3c2bfa9b83ee",
   "metadata": {},
   "source": [
    "After running this cell, copy the redis database information (looking something like `<hash>@swipluser-socrates-hash`) and restart the kernel. This clears the current Prolog factbase. \n",
    "\n",
    "---\n",
    "After restarting the kernel, set the environment variables again:"
   ]
  },
  {
   "cell_type": "code",
   "execution_count": 1,
   "id": "02c77da1-0026-4ff2-a3c1-5926d5d00d3c",
   "metadata": {},
   "outputs": [
    {
     "name": "stdout",
     "output_type": "stream",
     "text": [
      "SET ENV BLOCKCHAIN=1\n",
      "SET ENV REDIS=1\n",
      "SET ENV TIMESTAMPING=1\n",
      "SET ENV LOGGING_LEVEL=20"
     ]
    }
   ],
   "source": [
    "%ENV\n",
    "BLOCKCHAIN=1\n",
    "REDIS=1\n",
    "TIMESTAMPING=1\n",
    "LOGGING_LEVEL=20"
   ]
  },
  {
   "cell_type": "markdown",
   "id": "b40d1d9d-28ff-499e-b4e6-8395ec305c12",
   "metadata": {},
   "source": [
    "To prove the kernel has restarted and cleared the factbase, run the following query and see the errors:"
   ]
  },
  {
   "cell_type": "code",
   "execution_count": 2,
   "id": "dddcb915",
   "metadata": {},
   "outputs": [
    {
     "name": "stdout",
     "output_type": "stream",
     "text": [
      "ERROR: Caused by: '  mortal(socrates)'. Returned: 'error(existence_error(procedure, /(mortal, 1)), context(/(pyrun, 2), _2260))'.\n",
      "ERROR: Caused by: '  mortal(X)'. Returned: 'error(existence_error(procedure, /(mortal, 1)), context(/(pyrun, 2), _2362))'.\n",
      "ERROR: Caused by: '  mortal(bob)'. Returned: 'error(existence_error(procedure, /(mortal, 1)), context(/(pyrun, 2), _2452))'."
     ]
    }
   ],
   "source": [
    "?- mortal(socrates).\n",
    "?- mortal(X).\n",
    "?- mortal(bob)."
   ]
  },
  {
   "cell_type": "markdown",
   "id": "259e36c5",
   "metadata": {},
   "source": [
    "If you have lost your hash information from the previous kernel (or want to confirm the information is correct), we can query the domain on the chain instead:"
   ]
  },
  {
   "cell_type": "code",
   "execution_count": 3,
   "id": "97a4f11a",
   "metadata": {},
   "outputs": [
    {
     "name": "stdout",
     "output_type": "stream",
     "text": [
      "{\n",
      "  \"hash\": \"10c091ab624de8781df5250486b537ab\",\n",
      "  \"height\": 6,\n",
      "  \"domain\": \"swipluser-socrates-hash\",\n",
      "  \"creator_id\": \"swipluser@hashing\",\n",
      "  \"time\": 1644268194036\n",
      "}\n",
      "{\n",
      "  \"hash\": \"b507a51e9a7c3897ab2c09e58d2cb393\",\n",
      "  \"height\": 9,\n",
      "  \"domain\": \"swipluser-socrates-hash\",\n",
      "  \"creator_id\": \"swipluser@hashing\",\n",
      "  \"time\": 1644268275799\n",
      "}"
     ]
    }
   ],
   "source": [
    "%python\n",
    "from IrohaUtils import *\n",
    "import json\n",
    "custodian = IrohaHashCustodian.Custodian()\n",
    "\n",
    "hashes = custodian.get_domain_hashes(\"swipluser-socrates-hash\")\n",
    "for hash in hashes: print(json.dumps(hash, indent=2))"
   ]
  },
  {
   "cell_type": "markdown",
   "id": "0a0460d2-7331-4d37-a600-d2ac8c228a42",
   "metadata": {},
   "source": [
    "We can now use the hash from our previous kernel and load it into our current factbase using `%consult` magic:"
   ]
  },
  {
   "cell_type": "code",
   "execution_count": 4,
   "id": "01779f9b-eb60-4069-b952-f5e6e58f80fb",
   "metadata": {},
   "outputs": [
    {
     "name": "stdout",
     "output_type": "stream",
     "text": [
      "b507a51e9a7c3897ab2c09e58d2cb393@swipluser-socrates-hash\n",
      "% 1644268273029744676\n",
      "man(socrates).\n",
      "mortal(X) :- man(X).\n",
      "--------------------------------------------------------------------------------\n",
      "Successfully consulted socrates.pl\n",
      "--------------------------------------------------------------------------------\n"
     ]
    }
   ],
   "source": [
    "%consult\n",
    "b507a51e9a7c3897ab2c09e58d2cb393@swipluser-socrates-hash"
   ]
  },
  {
   "cell_type": "markdown",
   "id": "10d53b0b-2715-4ec3-96ea-c9a448f7024a",
   "metadata": {},
   "source": [
    "And now we can run the same query and get the correct results, demonstrating that the factbase from the above hash has indeed been loaded into this kernel\n"
   ]
  },
  {
   "cell_type": "code",
   "execution_count": 5,
   "id": "99521682-ed2d-4589-9177-e75b89039c63",
   "metadata": {},
   "outputs": [
    {
     "name": "stdout",
     "output_type": "stream",
     "text": [
      "true.\n",
      "X = socrates .\n",
      "false."
     ]
    }
   ],
   "source": [
    "?- mortal(socrates).\n",
    "?- mortal(X).\n",
    "?- mortal(bob)."
   ]
  },
  {
   "cell_type": "code",
   "execution_count": null,
   "id": "71ca271b-4f4b-4d73-9d46-8d5c61dcb6d5",
   "metadata": {},
   "outputs": [],
   "source": []
  }
 ],
 "metadata": {
  "kernelspec": {
   "display_name": "SWI-Prolog",
   "language": "",
   "name": "swi-kernel"
  },
  "language_info": {
   "mimetype": "text/plain",
   "name": "swipl"
  }
 },
 "nbformat": 4,
 "nbformat_minor": 5
}
