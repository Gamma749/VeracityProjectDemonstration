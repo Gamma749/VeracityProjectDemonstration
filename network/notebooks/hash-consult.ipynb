{
 "cells": [
  {
   "cell_type": "markdown",
   "id": "3df3eafa-ad5c-4ad9-89c5-e7f93086e38d",
   "metadata": {},
   "source": [
    "We can also consult a hash stored in the Redis database. In a typical production environemnt, we would find this hash on the blockchain before consulting the database, but here we can abstract away that worry and consult the database directly"
   ]
  },
  {
   "cell_type": "markdown",
   "id": "0a0460d2-7331-4d37-a600-d2ac8c228a42",
   "metadata": {},
   "source": [
    "Here we take the hash from the previous notebook and consult it here using `%consult` magic"
   ]
  },
  {
   "cell_type": "code",
   "execution_count": null,
   "id": "01779f9b-eb60-4069-b952-f5e6e58f80fb",
   "metadata": {},
   "outputs": [],
   "source": [
    "%consult\n"
   ]
  },
  {
   "cell_type": "markdown",
   "id": "10d53b0b-2715-4ec3-96ea-c9a448f7024a",
   "metadata": {},
   "source": [
    "And now we can run the same query and get the same results, demonstrating that the factbase from the above hash has indeed been loaded into this kernel\n"
   ]
  },
  {
   "cell_type": "code",
   "execution_count": null,
   "id": "99521682-ed2d-4589-9177-e75b89039c63",
   "metadata": {},
   "outputs": [],
   "source": [
    "?- mortal(socrates).\n",
    "?- mortal(X).\n",
    "?- mortal(bob)."
   ]
  }
 ],
 "metadata": {
  "kernelspec": {
   "display_name": "SWI-Prolog",
   "language": "",
   "name": "swi-kernel"
  },
  "language_info": {
   "mimetype": "text/plain",
   "name": "swipl"
  }
 },
 "nbformat": 4,
 "nbformat_minor": 5
}
